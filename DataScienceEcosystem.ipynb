{
 "cells": [
  {
   "cell_type": "markdown",
   "id": "b5adbeb6",
   "metadata": {},
   "source": [
    "# Data Science Tools and Ecosystem"
   ]
  },
  {
   "cell_type": "markdown",
   "id": "7c8cdd6d",
   "metadata": {},
   "source": [
    "In this notebook, Data Science Tools and Ecosystem are summarized."
   ]
  },
  {
   "cell_type": "markdown",
   "id": "8b9482e7",
   "metadata": {},
   "source": [
    "Some of the popular languages that Data Scientists use are:\n",
    "#ORDER LIST\n",
    "\n",
    "    1.Java\n",
    "    2.Python\n",
    "    3.C++\n",
    "    4.R"
   ]
  },
  {
   "cell_type": "markdown",
   "id": "28159f23",
   "metadata": {},
   "source": [
    "Some of the commonly used libraries used by Data Scientists include:\n",
    "    # Order list\n",
    "    \n",
    "    1.Matplotlib\n",
    "    2.Seaborn\n",
    "    3.Pytorch\n",
    "    4.Tensorflow"
   ]
  },
  {
   "cell_type": "markdown",
   "id": "42d90c62",
   "metadata": {},
   "source": [
    "# Create Data Science\n",
    "\n",
    "\n",
    "| Data Science Tools |\n",
    "-----------------------------\n",
    "| Pandas|\n",
    "| NumPy |\n",
    "|Tableau |"
   ]
  },
  {
   "cell_type": "markdown",
   "id": "af81c4b6",
   "metadata": {},
   "source": [
    "### Below are a few examples of evaluating arithmetic expressions in Python\n"
   ]
  },
  {
   "cell_type": "code",
   "execution_count": 3,
   "id": "51703264",
   "metadata": {},
   "outputs": [
    {
     "data": {
      "text/plain": [
       "17"
      ]
     },
     "execution_count": 3,
     "metadata": {},
     "output_type": "execute_result"
    }
   ],
   "source": [
    "(3*4)+5\n",
    "#This a simple arithmetic expression to mutiply then add integers"
   ]
  },
  {
   "cell_type": "code",
   "execution_count": 4,
   "id": "f9739ae1",
   "metadata": {},
   "outputs": [
    {
     "data": {
      "text/plain": [
       "3.3333333333333335"
      ]
     },
     "execution_count": 4,
     "metadata": {},
     "output_type": "execute_result"
    }
   ],
   "source": [
    "200/60\n",
    "#This will convert 200 minutes to hours by diving by 60"
   ]
  },
  {
   "cell_type": "markdown",
   "id": "c51393c6",
   "metadata": {},
   "source": [
    "**Objectives**"
   ]
  },
  {
   "cell_type": "markdown",
   "id": "a3ebc076",
   "metadata": {},
   "source": [
    "List popular languages for Data Science\n",
    "\n",
    "#unordered list\n",
    "\n",
    "- Python\n",
    "- R\n",
    "- Julia"
   ]
  },
  {
   "cell_type": "markdown",
   "id": "246000c2",
   "metadata": {},
   "source": [
    "## Author\n",
    " Antony Donbosco"
   ]
  },
  {
   "cell_type": "code",
   "execution_count": null,
   "id": "44c12048",
   "metadata": {},
   "outputs": [],
   "source": [
    "    "
   ]
  }
 ],
 "metadata": {
  "kernelspec": {
   "display_name": "Python 3 (ipykernel)",
   "language": "python",
   "name": "python3"
  },
  "language_info": {
   "codemirror_mode": {
    "name": "ipython",
    "version": 3
   },
   "file_extension": ".py",
   "mimetype": "text/x-python",
   "name": "python",
   "nbconvert_exporter": "python",
   "pygments_lexer": "ipython3",
   "version": "3.10.9"
  }
 },
 "nbformat": 4,
 "nbformat_minor": 5
}
